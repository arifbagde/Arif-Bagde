{
 "cells": [
  {
   "cell_type": "code",
   "execution_count": 5,
   "metadata": {},
   "outputs": [],
   "source": [
    "import tensorflow as tf\n",
    "#from keras.models import load_model\n",
    "from keras.preprocessing import image\n",
    "import numpy as np\n",
    "\n",
    "# dimensions of our images\n",
    "img_width, img_height = 128, 128\n",
    "\n",
    "# load the model we saved\n",
    "model = tf.keras.models.load_model('./model_80-20 final.h5')\n",
    "model.compile(loss='binary_crossentropy',\n",
    "              optimizer='rmsprop',\n",
    "              metrics=['accuracy'])"
   ]
  },
  {
   "cell_type": "code",
   "execution_count": 3,
   "metadata": {},
   "outputs": [
    {
     "name": "stdout",
     "output_type": "stream",
     "text": [
      "[1]\n",
      "Tuberculosis\n"
     ]
    }
   ],
   "source": [
    "img = image.load_img('images_08_1.png', target_size=(img_width, img_height))\n",
    "x = image.img_to_array(img)\n",
    "x = np.expand_dims(x, axis=0)\n",
    "\n",
    "images = np.vstack([x])\n",
    "classes = model.predict_classes(images, batch_size=10)\n",
    "print(classes)\n",
    "\n",
    "if classes == 1:\n",
    "    prediction = 'Tuberculosis'\n",
    "else:\n",
    "    prediction = 'Normal'\n",
    "print(prediction)"
   ]
  },
  {
   "cell_type": "code",
   "execution_count": 7,
   "metadata": {},
   "outputs": [
    {
     "name": "stdout",
     "output_type": "stream",
     "text": [
      "[[[ 7.  7.  7.]\n",
      "  [ 8.  8.  8.]\n",
      "  [ 7.  7.  7.]\n",
      "  ...\n",
      "  [ 6.  6.  6.]\n",
      "  [ 5.  5.  5.]\n",
      "  [ 4.  4.  4.]]\n",
      "\n",
      " [[ 8.  7.  8.]\n",
      "  [12. 11. 12.]\n",
      "  [14. 13. 14.]\n",
      "  ...\n",
      "  [ 9.  8.  9.]\n",
      "  [ 8.  8.  8.]\n",
      "  [ 7.  7.  7.]]\n",
      "\n",
      " [[17. 17. 17.]\n",
      "  [19. 19. 19.]\n",
      "  [20. 19. 20.]\n",
      "  ...\n",
      "  [36. 36. 36.]\n",
      "  [33. 32. 33.]\n",
      "  [33. 32. 33.]]\n",
      "\n",
      " ...\n",
      "\n",
      " [[16. 16. 16.]\n",
      "  [42. 42. 42.]\n",
      "  [80. 80. 80.]\n",
      "  ...\n",
      "  [10.  9. 10.]\n",
      "  [ 4.  4.  4.]\n",
      "  [ 4.  4.  4.]]\n",
      "\n",
      " [[11. 11. 11.]\n",
      "  [39. 38. 39.]\n",
      "  [77. 77. 77.]\n",
      "  ...\n",
      "  [ 6.  6.  6.]\n",
      "  [ 5.  5.  5.]\n",
      "  [ 5.  4.  5.]]\n",
      "\n",
      " [[13. 12. 13.]\n",
      "  [45. 45. 45.]\n",
      "  [92. 91. 92.]\n",
      "  ...\n",
      "  [10. 10. 10.]\n",
      "  [10.  9. 10.]\n",
      "  [10.  9. 10.]]]\n"
     ]
    }
   ],
   "source": [
    "print(image.img_to_array(img))"
   ]
  },
  {
   "cell_type": "code",
   "execution_count": null,
   "metadata": {},
   "outputs": [],
   "source": []
  }
 ],
 "metadata": {
  "kernelspec": {
   "display_name": "Python 3",
   "language": "python",
   "name": "python3"
  },
  "language_info": {
   "codemirror_mode": {
    "name": "ipython",
    "version": 3
   },
   "file_extension": ".py",
   "mimetype": "text/x-python",
   "name": "python",
   "nbconvert_exporter": "python",
   "pygments_lexer": "ipython3",
   "version": "3.7.3"
  }
 },
 "nbformat": 4,
 "nbformat_minor": 2
}
