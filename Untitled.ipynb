{
 "cells": [
  {
   "cell_type": "code",
   "execution_count": 28,
   "metadata": {},
   "outputs": [
    {
     "name": "stdout",
     "output_type": "stream",
     "text": [
      "[[1. 0.]]\n"
     ]
    }
   ],
   "source": [
    "import numpy as np\n",
    "import tensorflow as tf\n",
    "\n",
    "# Load TFLite model and allocate tensors.\n",
    "interpreter = tf.lite.Interpreter(model_path=\"converted_model.tflite\")\n",
    "interpreter.allocate_tensors()\n",
    "\n",
    "# Get input and output tensors.\n",
    "input_details = interpreter.get_input_details()\n",
    "output_details = interpreter.get_output_details()\n",
    "\n",
    "# Test model on random input data.\n",
    "input_shape = input_details[0]['shape']\n",
    "\n",
    "img = image.load_img('MCUCXR_0057_0.png', target_size=(128, 128))\n",
    "x = np.array(image.img_to_array(img)).flatten()\n",
    "x = np.reshape(x,(1, 128, 128, 3))\n",
    "\n",
    "input_data = np.array(x, dtype=np.float32)\n",
    "#input_data = np.array(np.random.random_sample(input_shape), dtype=np.float32)\n",
    "interpreter.set_tensor(input_details[0]['index'], input_data)\n",
    "\n",
    "interpreter.invoke()\n",
    "\n",
    "# The function `get_tensor()` returns a copy of the tensor data.\n",
    "# Use `tensor()` in order to get a pointer to the tensor.\n",
    "output_data = interpreter.get_tensor(output_details[0]['index'])\n",
    "print(output_data)"
   ]
  },
  {
   "cell_type": "code",
   "execution_count": 27,
   "metadata": {},
   "outputs": [
    {
     "name": "stdout",
     "output_type": "stream",
     "text": [
      "[{'name': 'dense_1/Softmax', 'index': 24, 'shape': array([1, 2]), 'dtype': <class 'numpy.float32'>, 'quantization': (0.0, 0)}]\n"
     ]
    }
   ],
   "source": [
    "print(output_details)"
   ]
  },
  {
   "cell_type": "code",
   "execution_count": 30,
   "metadata": {},
   "outputs": [
    {
     "name": "stdout",
     "output_type": "stream",
     "text": [
      "[[[[ 7.  7.  7.]\n",
      "   [ 8.  8.  8.]\n",
      "   [ 7.  7.  7.]\n",
      "   ...\n",
      "   [ 6.  6.  6.]\n",
      "   [ 5.  5.  5.]\n",
      "   [ 4.  4.  4.]]\n",
      "\n",
      "  [[ 8.  7.  8.]\n",
      "   [12. 11. 12.]\n",
      "   [14. 13. 14.]\n",
      "   ...\n",
      "   [ 9.  8.  9.]\n",
      "   [ 8.  8.  8.]\n",
      "   [ 7.  7.  7.]]\n",
      "\n",
      "  [[17. 17. 17.]\n",
      "   [19. 19. 19.]\n",
      "   [20. 19. 20.]\n",
      "   ...\n",
      "   [36. 36. 36.]\n",
      "   [33. 32. 33.]\n",
      "   [33. 32. 33.]]\n",
      "\n",
      "  ...\n",
      "\n",
      "  [[16. 16. 16.]\n",
      "   [42. 42. 42.]\n",
      "   [80. 80. 80.]\n",
      "   ...\n",
      "   [10.  9. 10.]\n",
      "   [ 4.  4.  4.]\n",
      "   [ 4.  4.  4.]]\n",
      "\n",
      "  [[11. 11. 11.]\n",
      "   [39. 38. 39.]\n",
      "   [77. 77. 77.]\n",
      "   ...\n",
      "   [ 6.  6.  6.]\n",
      "   [ 5.  5.  5.]\n",
      "   [ 5.  4.  5.]]\n",
      "\n",
      "  [[13. 12. 13.]\n",
      "   [45. 45. 45.]\n",
      "   [92. 91. 92.]\n",
      "   ...\n",
      "   [10. 10. 10.]\n",
      "   [10.  9. 10.]\n",
      "   [10.  9. 10.]]]]\n"
     ]
    }
   ],
   "source": [
    "img = image.load_img('images_08_1.png', target_size=(128, 128))\n",
    "x = np.array(image.img_to_array(img)).flatten()\n",
    "x = np.reshape(x,(1, 128, 128, 3))\n",
    "print(x)"
   ]
  },
  {
   "cell_type": "code",
   "execution_count": null,
   "metadata": {},
   "outputs": [],
   "source": []
  }
 ],
 "metadata": {
  "kernelspec": {
   "display_name": "Python 3",
   "language": "python",
   "name": "python3"
  },
  "language_info": {
   "codemirror_mode": {
    "name": "ipython",
    "version": 3
   },
   "file_extension": ".py",
   "mimetype": "text/x-python",
   "name": "python",
   "nbconvert_exporter": "python",
   "pygments_lexer": "ipython3",
   "version": "3.7.3"
  }
 },
 "nbformat": 4,
 "nbformat_minor": 2
}
